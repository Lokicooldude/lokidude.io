{
 "cells": [
  {
   "cell_type": "code",
   "execution_count": 8,
   "metadata": {},
   "outputs": [],
   "source": [
    "#task 1\n",
    "#question 1.1\n",
    "def myreduce(func,vls):\n",
    "    result=vls[0]\n",
    "    for i in vls[1:]:\n",
    "        result=func(result,i)\n",
    "    return result"
   ]
  },
  {
   "cell_type": "code",
   "execution_count": 9,
   "metadata": {},
   "outputs": [],
   "source": [
    "def func (a,b):\n",
    "    return a+b"
   ]
  },
  {
   "cell_type": "code",
   "execution_count": 10,
   "metadata": {},
   "outputs": [
    {
     "name": "stdout",
     "output_type": "stream",
     "text": [
      "55\n"
     ]
    }
   ],
   "source": [
    "list=[1,2,3,4,5,6,7,8,9,10]\n",
    "print(myreduce(func,list))\n"
   ]
  },
  {
   "cell_type": "code",
   "execution_count": 25,
   "metadata": {},
   "outputs": [],
   "source": [
    "def myfilter(func,vls):\n",
    "    result=[]\n",
    "    for i in vls:\n",
    "        if func(i):                 #question 1.2\n",
    "            result.append(i)\n",
    "    return result\n",
    "    "
   ]
  },
  {
   "cell_type": "code",
   "execution_count": 26,
   "metadata": {},
   "outputs": [],
   "source": [
    "def iseven(a):\n",
    "    if(a%2==0):\n",
    "        return True\n",
    "    else:\n",
    "        return False\n",
    "    "
   ]
  },
  {
   "cell_type": "code",
   "execution_count": 27,
   "metadata": {},
   "outputs": [
    {
     "name": "stdout",
     "output_type": "stream",
     "text": [
      "[2, 4, 6, 8, 10]\n"
     ]
    }
   ],
   "source": [
    "list11=[1,2,3,4,5,6,7,8,9,10]\n",
    "print(myfilter(iseven,list11))"
   ]
  },
  {
   "cell_type": "code",
   "execution_count": 12,
   "metadata": {},
   "outputs": [
    {
     "name": "stdout",
     "output_type": "stream",
     "text": [
      "['A', 'C', 'A', 'D', 'G', 'I', 'L', 'D']\n"
     ]
    }
   ],
   "source": [
    "str1='ACADGILD'\n",
    "m=[str(i) for i in str1]             #question 2\n",
    "print(m)"
   ]
  },
  {
   "cell_type": "code",
   "execution_count": 13,
   "metadata": {},
   "outputs": [
    {
     "name": "stdout",
     "output_type": "stream",
     "text": [
      "['x', 'xx', 'xxx', 'xxxx', 'y', 'yy', 'yyy', 'yyyy', 'z', 'zz', 'zzz', 'zzzz']\n"
     ]
    }
   ],
   "source": [
    "str2='xyz'\n",
    "m=[str(i*j) for i in str2 for j in range(1,5)]\n",
    "print(m)"
   ]
  },
  {
   "cell_type": "code",
   "execution_count": 14,
   "metadata": {},
   "outputs": [
    {
     "name": "stdout",
     "output_type": "stream",
     "text": [
      "['x', 'y', 'z', 'xx', 'yy', 'zz', 'xxx', 'yyy', 'zzz', 'xxxx', 'yyyy', 'zzzz']\n"
     ]
    }
   ],
   "source": [
    "str3='xyz'\n",
    "m=[str(i*j)  for k in range(1,5) for i in str3 for j in range(k,k+1)]\n",
    "print(m)\n"
   ]
  },
  {
   "cell_type": "code",
   "execution_count": 15,
   "metadata": {},
   "outputs": [
    {
     "name": "stdout",
     "output_type": "stream",
     "text": [
      "[[2], [3], [4], [3], [4], [5], [4], [5], [6]]\n"
     ]
    }
   ],
   "source": [
    "m=[[i+j] for j in range(2,5) for i in range(0,3) ]\n",
    "print(m)\n",
    "\n",
    "        "
   ]
  },
  {
   "cell_type": "code",
   "execution_count": 16,
   "metadata": {},
   "outputs": [
    {
     "name": "stdout",
     "output_type": "stream",
     "text": [
      "[[2, 3, 4, 5], [3, 4, 5, 6], [4, 5, 6, 7], [5, 6, 7, 8]]\n"
     ]
    }
   ],
   "source": [
    "m=[[i,i+1,i+2,i+3] for i in range(2,6) ]\n",
    "print(m)"
   ]
  },
  {
   "cell_type": "code",
   "execution_count": 17,
   "metadata": {},
   "outputs": [
    {
     "name": "stdout",
     "output_type": "stream",
     "text": [
      "[(1, 1), (2, 1), (3, 1), (1, 2), (2, 2), (3, 2), (1, 3), (2, 3), (3, 3)]\n"
     ]
    }
   ],
   "source": [
    "m=[(i,j) for j in range(1,4) for i in range(1,4)]\n",
    "print(m)"
   ]
  },
  {
   "cell_type": "code",
   "execution_count": 18,
   "metadata": {},
   "outputs": [
    {
     "name": "stdout",
     "output_type": "stream",
     "text": [
      "enter the sentencei am a student studying in chennai\n",
      "studying\n"
     ]
    }
   ],
   "source": [
    "#question 3\n",
    "\n",
    "def longestword(str1):\n",
    "    strlist=[str(i) for i in str1.split()]\n",
    "    m=[]\n",
    "    for i in strlist:\n",
    "        b=len(i)\n",
    "        m.append(b)\n",
    "    p=sorted(m,reverse=True)\n",
    "    for i in strlist:\n",
    "        if(p[0]==len(i)):\n",
    "            print(i)\n",
    "        \n",
    "str1=str(input(\"enter the sentence\"))\n",
    "longestword(str1)\n",
    "\n",
    "\n",
    "\n",
    "    \n"
   ]
  },
  {
   "cell_type": "code",
   "execution_count": 19,
   "metadata": {},
   "outputs": [
    {
     "name": "stdout",
     "output_type": "stream",
     "text": [
      "97 77 67\n",
      "2567.1365735971276\n"
     ]
    }
   ],
   "source": [
    "#Task 2\n",
    "#question 1.1\n",
    "class triangle:\n",
    "   \n",
    "    def __init__(self,a,b,c):\n",
    "        self.a=a\n",
    "        self.b=b\n",
    "        self.c=c\n",
    "class area(triangle):\n",
    "    def calc(self):\n",
    "        s=(self.a+self.b+self.c)/2\n",
    "        area=(s*(s-self.a)*(s-self.b)*(s-self.c))**0.5\n",
    "        print(area)\n",
    "a=[int(i) for i in input().split()]\n",
    "b=area(a[0],a[1],a[2])\n",
    "b.calc()"
   ]
  },
  {
   "cell_type": "code",
   "execution_count": 20,
   "metadata": {},
   "outputs": [
    {
     "name": "stdout",
     "output_type": "stream",
     "text": [
      "enter number5\n",
      "enter the sentencei am a student studying in chennai\n",
      "['student', 'studying', 'chennai']\n"
     ]
    }
   ],
   "source": [
    "#question1.2\n",
    "def filter_long_words(str1,n):\n",
    "    list1=[]\n",
    "    strlist=[str(i) for i in str1.split()]\n",
    "    for i in strlist:\n",
    "        if(len(i)>n):\n",
    "            list1.append(i)\n",
    "    print(list1)\n",
    "n=int(input(\"enter number\"))\n",
    "str1=str(input(\"enter the sentence\"))\n",
    "filter_long_words(str1,n)\n",
    "\n",
    "            "
   ]
  },
  {
   "cell_type": "code",
   "execution_count": 7,
   "metadata": {},
   "outputs": [
    {
     "name": "stdout",
     "output_type": "stream",
     "text": [
      "[2, 3, 3]\n"
     ]
    }
   ],
   "source": [
    "def correspondinglen(list3):\n",
    "    list2=[str(i) for i in list3]\n",
    "    result1=list(map(lambda x:len(x),list2))\n",
    "    print(result1)\n",
    "n=['ab','cde','fgh']\n",
    "correspondinglen(n)                                   #question 2.1\n",
    "\n"
   ]
  },
  {
   "cell_type": "code",
   "execution_count": 21,
   "metadata": {},
   "outputs": [
    {
     "name": "stdout",
     "output_type": "stream",
     "text": [
      "e\n"
     ]
    },
    {
     "data": {
      "text/plain": [
       "True"
      ]
     },
     "execution_count": 21,
     "metadata": {},
     "output_type": "execute_result"
    }
   ],
   "source": [
    "def vowel_or_not(str1):\n",
    "    if(str1=='A' or str1 =='E' or str1=='I' or str1=='O' or str1 =='U' or str1=='a' or str1 =='e' or str1=='i' or str1=='o' or str1 =='u'):\n",
    "        return True\n",
    "    else:\n",
    "        return False\n",
    "str1=str(input())\n",
    "vowel_or_not(str1)\n",
    "\n",
    "\n",
    "#question 2.2\n"
   ]
  },
  {
   "cell_type": "code",
   "execution_count": null,
   "metadata": {},
   "outputs": [],
   "source": []
  }
 ],
 "metadata": {
  "kernelspec": {
   "display_name": "Python 3",
   "language": "python",
   "name": "python3"
  }
 },
 "nbformat": 4,
 "nbformat_minor": 2
}
